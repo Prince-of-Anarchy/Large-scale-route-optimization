{
  "nbformat": 4,
  "nbformat_minor": 0,
  "metadata": {
    "colab": {
      "provenance": [],
      "authorship_tag": "ABX9TyNrZK82M1qt8WcWyvY14X04",
      "include_colab_link": true
    },
    "kernelspec": {
      "name": "python3",
      "display_name": "Python 3"
    },
    "language_info": {
      "name": "python"
    }
  },
  "cells": [
    {
      "cell_type": "markdown",
      "metadata": {
        "id": "view-in-github",
        "colab_type": "text"
      },
      "source": [
        "<a href=\"https://colab.research.google.com/github/Prince-of-Anarchy/Large-scale-route-optimization/blob/main/CAT.ipynb\" target=\"_parent\"><img src=\"https://colab.research.google.com/assets/colab-badge.svg\" alt=\"Open In Colab\"/></a>"
      ]
    },
    {
      "cell_type": "code",
      "source": [
        "import pandas as pd\n",
        "from sklearn.preprocessing import LabelEncoder, OneHotEncoder, StandardScaler"
      ],
      "metadata": {
        "id": "iIY___m39Bhc"
      },
      "execution_count": 32,
      "outputs": []
    },
    {
      "cell_type": "code",
      "source": [
        "pwd"
      ],
      "metadata": {
        "colab": {
          "base_uri": "https://localhost:8080/",
          "height": 35
        },
        "id": "XXlVPJ_B-WVr",
        "outputId": "6780f216-3c4c-45ef-dc66-c4ab39740b4a"
      },
      "execution_count": 36,
      "outputs": [
        {
          "output_type": "execute_result",
          "data": {
            "text/plain": [
              "'/content'"
            ],
            "application/vnd.google.colaboratory.intrinsic+json": {
              "type": "string"
            }
          },
          "metadata": {},
          "execution_count": 36
        }
      ]
    },
    {
      "cell_type": "code",
      "source": [
        "print(dataset.info())\n",
        "print(dataset.describe())\n",
        "print(dataset.head)"
      ],
      "metadata": {
        "colab": {
          "base_uri": "https://localhost:8080/"
        },
        "id": "oB1BKan4-lxz",
        "outputId": "845299c6-a6a2-47b5-99c8-35091d018680"
      },
      "execution_count": 38,
      "outputs": [
        {
          "output_type": "stream",
          "name": "stdout",
          "text": [
            "<class 'pandas.core.frame.DataFrame'>\n",
            "RangeIndex: 3782 entries, 0 to 3781\n",
            "Data columns (total 3 columns):\n",
            " #   Column       Non-Null Count  Dtype \n",
            "---  ------       --------------  ----- \n",
            " 0   Source       3782 non-null   object\n",
            " 1   Destination  3782 non-null   object\n",
            " 2   Distance(M)  3782 non-null   int64 \n",
            "dtypes: int64(1), object(2)\n",
            "memory usage: 88.8+ KB\n",
            "None\n",
            "        Distance(M)\n",
            "count  3.782000e+03\n",
            "mean   1.198311e+06\n",
            "std    6.280114e+05\n",
            "min    2.818000e+03\n",
            "25%    7.377075e+05\n",
            "50%    1.162095e+06\n",
            "75%    1.613913e+06\n",
            "max    3.175597e+06\n",
            "<bound method NDFrame.head of        Source Destination  Distance(M)\n",
            "0     City_24     City_47      1114251\n",
            "1     City_24     City_31        97187\n",
            "2     City_24     City_54      1716028\n",
            "3     City_24     City_53      1729925\n",
            "4     City_24     City_19      1594107\n",
            "...       ...         ...          ...\n",
            "3777  City_61      City_2       652113\n",
            "3778  City_61     City_18       960188\n",
            "3779  City_61     City_50        60084\n",
            "3780  City_61     City_60      2527193\n",
            "3781  City_61      City_7      2064219\n",
            "\n",
            "[3782 rows x 3 columns]>\n"
          ]
        }
      ]
    },
    {
      "cell_type": "code",
      "source": [
        "dataset = pd.read_csv(\"distance.csv\")"
      ],
      "metadata": {
        "id": "CdPOPGZq9b9k"
      },
      "execution_count": 37,
      "outputs": []
    },
    {
      "cell_type": "code",
      "source": [
        "#Drop rows with missing values\n",
        "dataset = dataset.dropna(axis=0)"
      ],
      "metadata": {
        "id": "5FdMVPAl-EuB"
      },
      "execution_count": 39,
      "outputs": []
    },
    {
      "cell_type": "code",
      "source": [
        "#Encode categorical data\n",
        "le = LabelEncoder()"
      ],
      "metadata": {
        "id": "w1MgN9Xi-XmB"
      },
      "execution_count": 40,
      "outputs": []
    },
    {
      "cell_type": "code",
      "source": [
        "#Store original distance values for later use in scaling\n",
        "original_distance = dataset['Distance(M)']\n",
        "dataset['Distance(M)'] = le.fit_transform(dataset['Distance(M)'])\n"
      ],
      "metadata": {
        "id": "r42lx7HY_Lea"
      },
      "execution_count": 41,
      "outputs": []
    },
    {
      "cell_type": "code",
      "source": [
        "#One Hot Encoding\n",
        "dataset = pd.get_dummies(dataset, columns=['Destination']) #Use 'Destination' for One-Hot Encoding"
      ],
      "metadata": {
        "id": "a_achuxDAIoR"
      },
      "execution_count": 42,
      "outputs": []
    },
    {
      "cell_type": "code",
      "source": [
        "#Normalize features\n",
        "#Get a list of all one-hot encoded destination columns\n",
        "destination_columns = [col for col in dataset.columns if col.startswith('Destination_')]\n",
        "#Scale one-hot encoded destination columns and the originaldistance column\n",
        "columns_to_scale = destination_columns + ['Distance(M)']\n",
        "scaler = StandardScaler()\n",
        "dataset[columns_to_scale] = scaler.fit_transform(dataset[columns_to_scale])"
      ],
      "metadata": {
        "id": "EMl_rNrcAr6R"
      },
      "execution_count": 44,
      "outputs": []
    },
    {
      "cell_type": "code",
      "source": [
        "#Save cleaned dataset\n",
        "dataset.to_csv('cleaned_dataset.csv', index=False)"
      ],
      "metadata": {
        "id": "LR4-gKFmBdlx"
      },
      "execution_count": 45,
      "outputs": []
    }
  ]
}